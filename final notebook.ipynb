{
 "cells": [
  {
   "cell_type": "markdown",
   "id": "f8695ad8",
   "metadata": {},
   "source": [
    "# Image classification with a neutral atom quantum processor"
   ]
  },
  {
   "cell_type": "markdown",
   "id": "be9e451e",
   "metadata": {},
   "source": [
    "bla bla the image classification task is important"
   ]
  },
  {
   "cell_type": "markdown",
   "id": "898494f8",
   "metadata": {},
   "source": [
    "We propose here a protocol to perform image classification using the neutral atoms QPUs developped by PASQAL. Rubidium atoms can be trapped in their Rydberg state at a specific location of a vaccum chamber. They can be controlled by laser pulses, and the global system will behave in an intractable dynamic.\n",
    "\n",
    "The algorithm we propose comes from the idea that a regular grid of atoms can be assimilated as an image"
   ]
  },
  {
   "cell_type": "code",
   "execution_count": null,
   "id": "20b5d7ea",
   "metadata": {},
   "outputs": [],
   "source": []
  }
 ],
 "metadata": {
  "kernelspec": {
   "display_name": "Python 3 (ipykernel)",
   "language": "python",
   "name": "python3"
  },
  "language_info": {
   "codemirror_mode": {
    "name": "ipython",
    "version": 3
   },
   "file_extension": ".py",
   "mimetype": "text/x-python",
   "name": "python",
   "nbconvert_exporter": "python",
   "pygments_lexer": "ipython3",
   "version": "3.9.7"
  }
 },
 "nbformat": 4,
 "nbformat_minor": 5
}
