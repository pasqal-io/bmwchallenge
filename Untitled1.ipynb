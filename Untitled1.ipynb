{
 "cells": [
  {
   "cell_type": "code",
   "execution_count": 1,
   "id": "0b68f3ab",
   "metadata": {},
   "outputs": [],
   "source": [
    "import numpy as np\n",
    "import matplotlib.pyplot as plt\n",
    "from utils import load_dataset, cost, probas_pred, labels_pred, accuracy\n",
    "from time import time\n",
    "from skopt import gp_minimize"
   ]
  },
  {
   "cell_type": "code",
   "execution_count": 2,
   "id": "cc7d4ef4",
   "metadata": {},
   "outputs": [],
   "source": [
    "n_samples = 50\n",
    "neg_images, pos_images = load_dataset(n_samples)\n",
    "\n",
    "images = np.concatenate([neg_images, pos_images], axis=0)\n",
    "targets = np.concatenate([np.zeros(n_samples), np.ones(n_samples)], axis=0)"
   ]
  },
  {
   "cell_type": "code",
   "execution_count": null,
   "id": "f53fb793",
   "metadata": {},
   "outputs": [],
   "source": [
    "times = [0.4, .5]\n",
    "pulses = [.2, .16]\n",
    "\n",
    "t0 = time()\n",
    "cost(images, targets, times, pulses)\n",
    "t1 = time()"
   ]
  },
  {
   "cell_type": "code",
   "execution_count": null,
   "id": "600a66e9",
   "metadata": {},
   "outputs": [],
   "source": [
    "t1-t0"
   ]
  },
  {
   "cell_type": "code",
   "execution_count": null,
   "id": "5badc9e5",
   "metadata": {
    "scrolled": true
   },
   "outputs": [],
   "source": [
    "import warnings\n",
    "warnings.filterwarnings('ignore')\n",
    "\n",
    "def get_score(param):\n",
    "    middle = len(param)//2\n",
    "    times = param[0:middle]\n",
    "    pulses = param[middle::]\n",
    "    return cost(images, targets, times, pulses)\n",
    "\n",
    "bounds = [(0.02, 2.)] * 3 + [(0.02, .5)] * 3\n",
    "    \n",
    "opt_result = gp_minimize(\n",
    "    get_score,\n",
    "    bounds,\n",
    "    acq_func='LCB',\n",
    "    n_calls=60,\n",
    "    n_initial_points=30,\n",
    "    acq_optimizer='sampling',\n",
    "    n_points=5000,\n",
    "    kappa=4,\n",
    "    n_jobs=-1)"
   ]
  },
  {
   "cell_type": "code",
   "execution_count": 8,
   "id": "28bed425",
   "metadata": {},
   "outputs": [],
   "source": [
    "middle = len(opt_result.x)//2\n",
    "times = opt_result.x[0:middle]\n",
    "pulses = opt_result.x[middle::]\n",
    "\n",
    "preds = probas_pred(images, times, pulses)\n",
    "preds = labels_pred(preds)"
   ]
  },
  {
   "cell_type": "code",
   "execution_count": 9,
   "id": "76ff86f1",
   "metadata": {},
   "outputs": [
    {
     "data": {
      "text/plain": [
       "0.5"
      ]
     },
     "execution_count": 9,
     "metadata": {},
     "output_type": "execute_result"
    }
   ],
   "source": [
    "accuracy(preds, targets)"
   ]
  },
  {
   "cell_type": "code",
   "execution_count": 10,
   "id": "04a741ba",
   "metadata": {},
   "outputs": [
    {
     "data": {
      "text/plain": [
       "array([0.74007647, 0.73789975, 0.72705463, 0.72929529, 0.74506476,\n",
       "       0.73838496, 0.72611979, 0.74343145, 0.72559518, 0.72697321,\n",
       "       0.74130231, 0.73498838, 0.72917275, 0.74323319, 0.74107601,\n",
       "       0.72485773, 0.74883014, 0.73576748, 0.74255955, 0.7376751 ,\n",
       "       0.73382555, 0.74237822, 0.73110586, 0.7278939 , 0.72441937,\n",
       "       0.74011531, 0.74720144, 0.72520462, 0.73362927, 0.72450188,\n",
       "       0.72389355, 0.74533769, 0.72679333, 0.72495484, 0.72405248,\n",
       "       0.73575743, 0.72624295, 0.73000888, 0.78479842, 0.74221572,\n",
       "       0.72490883, 0.72708609, 0.73090508, 0.72531271, 0.72538393,\n",
       "       0.73351552, 0.72559763, 0.73522148, 0.72501044, 0.72447329,\n",
       "       0.72742944, 0.7240879 , 0.72519716, 0.72340346, 0.72500191,\n",
       "       0.7277984 , 0.72976101, 0.72539308, 0.7243163 , 0.73240758])"
      ]
     },
     "execution_count": 10,
     "metadata": {},
     "output_type": "execute_result"
    }
   ],
   "source": [
    "opt_result.func_vals"
   ]
  },
  {
   "cell_type": "code",
   "execution_count": 11,
   "id": "d972d256",
   "metadata": {},
   "outputs": [
    {
     "data": {
      "text/plain": [
       "[0.299475525071482, 1.1637895578078652, 0.495942336643321, 0.03883882301248237]"
      ]
     },
     "execution_count": 11,
     "metadata": {},
     "output_type": "execute_result"
    }
   ],
   "source": [
    "opt_result.x"
   ]
  },
  {
   "cell_type": "code",
   "execution_count": null,
   "id": "712a1a47",
   "metadata": {},
   "outputs": [],
   "source": []
  }
 ],
 "metadata": {
  "kernelspec": {
   "display_name": "Python 3 (ipykernel)",
   "language": "python",
   "name": "python3"
  },
  "language_info": {
   "codemirror_mode": {
    "name": "ipython",
    "version": 3
   },
   "file_extension": ".py",
   "mimetype": "text/x-python",
   "name": "python",
   "nbconvert_exporter": "python",
   "pygments_lexer": "ipython3",
   "version": "3.9.7"
  }
 },
 "nbformat": 4,
 "nbformat_minor": 5
}
